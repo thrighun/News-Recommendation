{
 "cells": [
  {
   "cell_type": "code",
   "execution_count": 1,
   "id": "5c246f62",
   "metadata": {},
   "outputs": [],
   "source": [
    "from pymongo import MongoClient\n",
    "import pandas as pd\n",
    "import numpy as np"
   ]
  },
  {
   "cell_type": "code",
   "execution_count": 20,
   "id": "ab2d3551",
   "metadata": {},
   "outputs": [],
   "source": [
    "client = MongoClient(\"localhost\", 27017)"
   ]
  },
  {
   "cell_type": "code",
   "execution_count": 21,
   "id": "1eea8d7f",
   "metadata": {},
   "outputs": [],
   "source": [
    "db = client[\"NewsDatabase\"]\n",
    "collection = db[\"FullArticles\"]"
   ]
  },
  {
   "cell_type": "code",
   "execution_count": 22,
   "id": "50da72d6",
   "metadata": {},
   "outputs": [],
   "source": [
    "df = pd.DataFrame(collection.find().to_list())\n",
    "df = df.drop(\"_id\",axis=1)"
   ]
  },
  {
   "cell_type": "code",
   "execution_count": 23,
   "id": "4f05b3fc",
   "metadata": {},
   "outputs": [
    {
     "data": {
      "text/html": [
       "<div>\n",
       "<style scoped>\n",
       "    .dataframe tbody tr th:only-of-type {\n",
       "        vertical-align: middle;\n",
       "    }\n",
       "\n",
       "    .dataframe tbody tr th {\n",
       "        vertical-align: top;\n",
       "    }\n",
       "\n",
       "    .dataframe thead th {\n",
       "        text-align: right;\n",
       "    }\n",
       "</style>\n",
       "<table border=\"1\" class=\"dataframe\">\n",
       "  <thead>\n",
       "    <tr style=\"text-align: right;\">\n",
       "      <th></th>\n",
       "      <th>title</th>\n",
       "      <th>link</th>\n",
       "      <th>news</th>\n",
       "    </tr>\n",
       "  </thead>\n",
       "  <tbody>\n",
       "    <tr>\n",
       "      <th>0</th>\n",
       "      <td>Will launch door-to-door signature campaign fo...</td>\n",
       "      <td>https://www.thehindu.com/news/national/jammu-a...</td>\n",
       "      <td>Chief Minister Omar Abdullah on Friday (August...</td>\n",
       "    </tr>\n",
       "    <tr>\n",
       "      <th>1</th>\n",
       "      <td>Farmers, yoga volunteers special guests for P...</td>\n",
       "      <td>https://www.thehindu.com/news/national/farmers...</td>\n",
       "      <td>Recognising their contributions in the fields ...</td>\n",
       "    </tr>\n",
       "    <tr>\n",
       "      <th>2</th>\n",
       "      <td>‘Super Six’ poll promises in Andhra Pradesh ‘s...</td>\n",
       "      <td>https://www.thehindu.com/news/national/andhra-...</td>\n",
       "      <td>Slamming the previous YSRCP government for all...</td>\n",
       "    </tr>\n",
       "    <tr>\n",
       "      <th>3</th>\n",
       "      <td>Water level of River Yamuna to breach the ‘war...</td>\n",
       "      <td>https://www.thehindu.com/news/cities/Delhi/wat...</td>\n",
       "      <td>The water level of the Yamuna river in Delhi b...</td>\n",
       "    </tr>\n",
       "    <tr>\n",
       "      <th>4</th>\n",
       "      <td>I-Day celebrations | Telangana CM requests Cen...</td>\n",
       "      <td>https://www.thehindu.com/news/national/telanga...</td>\n",
       "      <td>Telangana Chief Minister A. Revanth Reddy has ...</td>\n",
       "    </tr>\n",
       "    <tr>\n",
       "      <th>...</th>\n",
       "      <td>...</td>\n",
       "      <td>...</td>\n",
       "      <td>...</td>\n",
       "    </tr>\n",
       "    <tr>\n",
       "      <th>503</th>\n",
       "      <td>Predator fly unleashes chaotic ant wars that c...</td>\n",
       "      <td>https://www.sciencedaily.com/releases/2025/08/...</td>\n",
       "      <td>To help manage agricultural practices with few...</td>\n",
       "    </tr>\n",
       "    <tr>\n",
       "      <th>504</th>\n",
       "      <td>Hubble spots a nearly invisible galaxy hiding ...</td>\n",
       "      <td>https://www.sciencedaily.com/releases/2025/08/...</td>\n",
       "      <td>This NASA/ESA Hubble Space Telescope Picture o...</td>\n",
       "    </tr>\n",
       "    <tr>\n",
       "      <th>505</th>\n",
       "      <td>NASA’s Curiosity Mars rover just learned how t...</td>\n",
       "      <td>https://www.sciencedaily.com/releases/2025/08/...</td>\n",
       "      <td>New capabilities allow the rover to do science...</td>\n",
       "    </tr>\n",
       "    <tr>\n",
       "      <th>506</th>\n",
       "      <td>Stark images show water's role in human strife...</td>\n",
       "      <td>https://www.newscientist.com/article/mg2673556...</td>\n",
       "      <td>As part of the exhibition Thirst: In Search of...</td>\n",
       "    </tr>\n",
       "    <tr>\n",
       "      <th>507</th>\n",
       "      <td>This book could convince you to become an engi...</td>\n",
       "      <td>https://www.newscientist.com/article/mg2673556...</td>\n",
       "      <td>From DNA sequencing to rainbows, the world of ...</td>\n",
       "    </tr>\n",
       "  </tbody>\n",
       "</table>\n",
       "<p>508 rows × 3 columns</p>\n",
       "</div>"
      ],
      "text/plain": [
       "                                                 title  \\\n",
       "0    Will launch door-to-door signature campaign fo...   \n",
       "1     Farmers, yoga volunteers special guests for P...   \n",
       "2    ‘Super Six’ poll promises in Andhra Pradesh ‘s...   \n",
       "3    Water level of River Yamuna to breach the ‘war...   \n",
       "4    I-Day celebrations | Telangana CM requests Cen...   \n",
       "..                                                 ...   \n",
       "503  Predator fly unleashes chaotic ant wars that c...   \n",
       "504  Hubble spots a nearly invisible galaxy hiding ...   \n",
       "505  NASA’s Curiosity Mars rover just learned how t...   \n",
       "506  Stark images show water's role in human strife...   \n",
       "507  This book could convince you to become an engi...   \n",
       "\n",
       "                                                  link  \\\n",
       "0    https://www.thehindu.com/news/national/jammu-a...   \n",
       "1    https://www.thehindu.com/news/national/farmers...   \n",
       "2    https://www.thehindu.com/news/national/andhra-...   \n",
       "3    https://www.thehindu.com/news/cities/Delhi/wat...   \n",
       "4    https://www.thehindu.com/news/national/telanga...   \n",
       "..                                                 ...   \n",
       "503  https://www.sciencedaily.com/releases/2025/08/...   \n",
       "504  https://www.sciencedaily.com/releases/2025/08/...   \n",
       "505  https://www.sciencedaily.com/releases/2025/08/...   \n",
       "506  https://www.newscientist.com/article/mg2673556...   \n",
       "507  https://www.newscientist.com/article/mg2673556...   \n",
       "\n",
       "                                                  news  \n",
       "0    Chief Minister Omar Abdullah on Friday (August...  \n",
       "1    Recognising their contributions in the fields ...  \n",
       "2    Slamming the previous YSRCP government for all...  \n",
       "3    The water level of the Yamuna river in Delhi b...  \n",
       "4    Telangana Chief Minister A. Revanth Reddy has ...  \n",
       "..                                                 ...  \n",
       "503  To help manage agricultural practices with few...  \n",
       "504  This NASA/ESA Hubble Space Telescope Picture o...  \n",
       "505  New capabilities allow the rover to do science...  \n",
       "506  As part of the exhibition Thirst: In Search of...  \n",
       "507  From DNA sequencing to rainbows, the world of ...  \n",
       "\n",
       "[508 rows x 3 columns]"
      ]
     },
     "execution_count": 23,
     "metadata": {},
     "output_type": "execute_result"
    }
   ],
   "source": [
    "df"
   ]
  },
  {
   "cell_type": "code",
   "execution_count": 24,
   "id": "9c2a3298",
   "metadata": {},
   "outputs": [
    {
     "data": {
      "text/plain": [
       "0      Chief Minister Omar Abdullah on Friday (August...\n",
       "1      Recognising their contributions in the fields ...\n",
       "2      Slamming the previous YSRCP government for all...\n",
       "3      The water level of the Yamuna river in Delhi b...\n",
       "4      Telangana Chief Minister A. Revanth Reddy has ...\n",
       "                             ...                        \n",
       "503    To help manage agricultural practices with few...\n",
       "504    This NASA/ESA Hubble Space Telescope Picture o...\n",
       "505    New capabilities allow the rover to do science...\n",
       "506    As part of the exhibition Thirst: In Search of...\n",
       "507    From DNA sequencing to rainbows, the world of ...\n",
       "Name: news, Length: 508, dtype: object"
      ]
     },
     "execution_count": 24,
     "metadata": {},
     "output_type": "execute_result"
    }
   ],
   "source": [
    "data = df[\"news\"]\n",
    "data"
   ]
  },
  {
   "cell_type": "code",
   "execution_count": 25,
   "id": "2849576c",
   "metadata": {},
   "outputs": [],
   "source": [
    "import re\n",
    "import string\n",
    "from nltk.stem import PorterStemmer\n",
    "\n",
    "for i,art in enumerate(df[\"news\"]):\n",
    "    text_no_punct = art.translate(str.maketrans('', '', string.punctuation))\n",
    "    text_no_numbers = re.sub(r'\\d+', '', text_no_punct)\n",
    "    words = text_no_numbers.split()\n",
    "    stemmer = PorterStemmer()\n",
    "    stemmed_words = [stemmer.stem(word) for word in words]\n",
    "    data[i] = ' '.join(stemmed_words)"
   ]
  },
  {
   "cell_type": "code",
   "execution_count": 26,
   "id": "3d45a6f0",
   "metadata": {},
   "outputs": [
    {
     "name": "stdout",
     "output_type": "stream",
     "text": [
      "['aadhaar' 'aaduvom' 'aaduvoma' ... 'čad' 'šeško' '𝙏𝙝𝙚𝙎𝙁𝙉𝙞𝙣𝙚𝙧𝙨']\n",
      "[[0 0 0 ... 0 0 0]\n",
      " [0 0 0 ... 0 0 0]\n",
      " [0 0 0 ... 0 0 0]\n",
      " ...\n",
      " [0 0 0 ... 0 0 0]\n",
      " [0 0 0 ... 0 0 0]\n",
      " [0 0 0 ... 0 0 0]]\n"
     ]
    }
   ],
   "source": [
    "from sklearn.feature_extraction.text import CountVectorizer\n",
    "vectorizer = CountVectorizer(stop_words='english')\n",
    "X = vectorizer.fit_transform(data)\n",
    "print(vectorizer.get_feature_names_out())\n",
    "print(X.toarray())"
   ]
  },
  {
   "cell_type": "code",
   "execution_count": 27,
   "id": "4da38f0f",
   "metadata": {},
   "outputs": [],
   "source": [
    "from sklearn.metrics.pairwise import cosine_similarity\n",
    "similarity_matrix = cosine_similarity(X)"
   ]
  },
  {
   "cell_type": "code",
   "execution_count": 28,
   "id": "807d867b",
   "metadata": {},
   "outputs": [
    {
     "name": "stdout",
     "output_type": "stream",
     "text": [
      "[[1.         0.12253833 0.25601676 ... 0.0519553  0.02911643 0.03641867]\n",
      " [0.12253833 1.         0.28452132 ... 0.05364799 0.04073328 0.02426141]\n",
      " [0.25601676 0.28452132 1.         ... 0.1094837  0.07444541 0.09720892]\n",
      " ...\n",
      " [0.0519553  0.05364799 0.1094837  ... 1.         0.09178087 0.13490207]\n",
      " [0.02911643 0.04073328 0.07444541 ... 0.09178087 1.         0.08508807]\n",
      " [0.03641867 0.02426141 0.09720892 ... 0.13490207 0.08508807 1.        ]]\n"
     ]
    }
   ],
   "source": [
    "print(similarity_matrix)"
   ]
  },
  {
   "cell_type": "code",
   "execution_count": 29,
   "id": "e1c54218",
   "metadata": {},
   "outputs": [],
   "source": [
    "collection = db[\"User\"]\n",
    "source = collection.find_one({\"likedArticles\":{\"$exists\": True}})\n",
    "likedArticles = source.get(\"likedArticles\")"
   ]
  },
  {
   "cell_type": "code",
   "execution_count": 30,
   "id": "b8c617de",
   "metadata": {},
   "outputs": [],
   "source": [
    "source = collection.find_one({\"dislikedArticles\":{\"$exists\": True}})\n",
    "dislikedArticles = source.get(\"dislikedArticles\")"
   ]
  },
  {
   "cell_type": "code",
   "execution_count": 39,
   "id": "aaebf4d0",
   "metadata": {},
   "outputs": [],
   "source": [
    "likedIndexes = df[df[\"link\"].isin(likedArticles)].index\n",
    "meanlikedIndexes =  X[likedIndexes].mean(axis=0) if len(likedIndexes) > 0 else np.zeros(X[0].shape)\n",
    "\n",
    "dislikedIndexes = df[df[\"link\"].isin(dislikedArticles)].index\n",
    "meandislikedIndexes = X[dislikedIndexes].mean(axis=0) if len(dislikedArticles) > 0 else np.zeros(X[0].shape)\n",
    "    "
   ]
  },
  {
   "cell_type": "code",
   "execution_count": 40,
   "id": "c43d62ad",
   "metadata": {},
   "outputs": [
    {
     "data": {
      "text/plain": [
       "matrix([[0.        , 0.06666667, 0.        , ..., 0.        , 0.        ,\n",
       "         0.        ]])"
      ]
     },
     "execution_count": 40,
     "metadata": {},
     "output_type": "execute_result"
    }
   ],
   "source": [
    "user_profile = meanlikedIndexes - meandislikedIndexes\n",
    "user_profile"
   ]
  },
  {
   "cell_type": "code",
   "execution_count": 41,
   "id": "2b567a02",
   "metadata": {},
   "outputs": [
    {
     "name": "stdout",
     "output_type": "stream",
     "text": [
      "Recommended articles: [414  54 116 203 346 178 398 328  17  67]\n",
      "scores [0.06234231 0.04944711 0.04487081 0.04350086 0.04242098 0.03772511\n",
      " 0.03722355 0.03603633 0.03407653 0.03373471]\n"
     ]
    }
   ],
   "source": [
    "similarities = cosine_similarity(np.array(user_profile), X.toarray()).flatten()\n",
    "\n",
    "for idx in likedIndexes:\n",
    "    similarities[idx] = -1\n",
    "\n",
    "top_indices = similarities.argsort()[::-1][:10]\n",
    "top_indices_scores = similarities[similarities.argsort()[::-1][:10]]\n",
    "print(\"Recommended articles:\", top_indices)\n",
    "print(\"scores\",top_indices_scores)\n"
   ]
  },
  {
   "cell_type": "code",
   "execution_count": 42,
   "id": "f9aaff0b",
   "metadata": {},
   "outputs": [
    {
     "name": "stdout",
     "output_type": "stream",
     "text": [
      "1 PM used Independence Day speech to target 'new enemy' in form of infiltrators: TMC \n",
      "2 Hyderabad | Show-cause notices issued to Oakridge International School for parking school vehicles on public roads\n",
      "3 307 people evacuated from Hyderabad’s low-lying areas as water gushes from Himayatsagar \n",
      "4 How Tamil cinema plunged into freedom movement after the advent of talkies \n",
      "5 Golconda Fort gets rainproof makeover for Independence Day celebrations; security tightened across Hyderabad\n",
      "6 India vs Australia hockey; Gukesh at St. Louis; Chennai Grand Masters concludes on Independence Day: Indian Sports LIVE, August 15\n",
      "7 Which is chess' most important format? Frequent switching raises questions\n",
      "8 FIDE Chess rankings for August: Divya Deshmukh reaches career-high rank of 15\n",
      "9 Cornell  researchers build first ‘microwave brain’ on a chip\n",
      "10 The disappearing planet next door has astronomers intrigued\n",
      "11 I-Day celebrations | CM Revanth reflects on achievements, plan to transform Telangana\n",
      "12 The surprising ant strategy that could transform robotics\n",
      "13 Hubble spots a nearly invisible galaxy hiding in plain sight\n",
      "14 NASA’s Curiosity Mars rover just learned how to multitask\n",
      "15 This book could convince you to become an engineer\n"
     ]
    }
   ],
   "source": [
    "for k,i in enumerate(likedIndexes):\n",
    "    print(k+1, df.iloc[i][\"title\"])"
   ]
  },
  {
   "cell_type": "code",
   "execution_count": 44,
   "id": "5bd1ea3c",
   "metadata": {},
   "outputs": [
    {
     "name": "stdout",
     "output_type": "stream",
     "text": [
      "1 A planet the size of Saturn could orbit the nearest sun-like star\n",
      "2 78 Years of Freedom: A collection of stories commemorating the progress of nation\n",
      "3 Telangana to soon have Tourist police across major attractions in State \n",
      "4 Students’ unions demand A.P. government to conduct elections in educational institutions\n",
      "5 How NASA’s Lunar Trailblazer was lost before reaching the Moon\n",
      "6 Telangana Rain | Half day for schools in GHMC limits, full holiday in five districts on August 13 and 14\n",
      "7 These ants are one of the most effective teams in the natural world\n",
      "8 Voyager missed it, but now we know Uranus has a fiery secret\n",
      "9 Omar attends Independence Day event in Srinagar, first elected CM in eight years to unfurl tricolour in J&K\n",
      "10 Tricolours made by special needs children to flutter at Madin campus\n"
     ]
    }
   ],
   "source": [
    "for k,i in enumerate(top_indices):\n",
    "    print(k+1, df.iloc[i][\"title\"])"
   ]
  },
  {
   "cell_type": "code",
   "execution_count": 45,
   "id": "61b6eb68",
   "metadata": {},
   "outputs": [],
   "source": [
    "client.close()"
   ]
  }
 ],
 "metadata": {
  "kernelspec": {
   "display_name": "myenv",
   "language": "python",
   "name": "python3"
  },
  "language_info": {
   "codemirror_mode": {
    "name": "ipython",
    "version": 3
   },
   "file_extension": ".py",
   "mimetype": "text/x-python",
   "name": "python",
   "nbconvert_exporter": "python",
   "pygments_lexer": "ipython3",
   "version": "3.12.3"
  }
 },
 "nbformat": 4,
 "nbformat_minor": 5
}
